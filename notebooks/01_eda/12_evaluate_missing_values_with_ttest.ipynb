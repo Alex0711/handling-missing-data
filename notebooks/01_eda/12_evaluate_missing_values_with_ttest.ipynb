{
 "cells": [
  {
   "cell_type": "code",
   "execution_count": 6,
   "metadata": {},
   "outputs": [],
   "source": [
    "import pandas as pd\n",
    "import matplotlib.pyplot as plt\n",
    "from statsmodels.graphics.mosaicplot import mosaic\n",
    "import scipy.stats\n",
    "import numpy as np\n",
    "import sys\n",
    "import seaborn as sns\n",
    "import pyprojroot\n",
    "import importlib\n",
    "import janitor\n",
    "import pyreadr\n",
    "sys.path.append(str(pyprojroot.here()))\n",
    "import src.utils\n",
    "import src.pandas_missing_extension\n",
    "importlib.reload(src.pandas_missing_extension)\n",
    "importlib.reload(src.utils)\n",
    "from src.utils import load_and_clean_nhanes_data"
   ]
  },
  {
   "cell_type": "code",
   "execution_count": 7,
   "metadata": {},
   "outputs": [
    {
     "name": "stderr",
     "output_type": "stream",
     "text": [
      "/home/alex/anaconda3/envs/handling_missing_data/lib/python3.10/site-packages/pandas_flavor/register.py:157: FutureWarning: This function will be deprecated in a 1.x release. Please use `jn.select` instead.\n",
      "  return method(self._obj, *args, **kwargs)\n",
      "/home/alex/anaconda3/envs/handling_missing_data/lib/python3.10/site-packages/pandas_flavor/register.py:157: FutureWarning: This function will be deprecated in a 1.x release. Please use `pd.DataFrame.rename` instead.\n",
      "  return method(self._obj, *args, **kwargs)\n"
     ]
    },
    {
     "data": {
      "text/html": [
       "<div>\n",
       "<style scoped>\n",
       "    .dataframe tbody tr th:only-of-type {\n",
       "        vertical-align: middle;\n",
       "    }\n",
       "\n",
       "    .dataframe tbody tr th {\n",
       "        vertical-align: top;\n",
       "    }\n",
       "\n",
       "    .dataframe thead th {\n",
       "        text-align: right;\n",
       "    }\n",
       "</style>\n",
       "<table border=\"1\" class=\"dataframe\">\n",
       "  <thead>\n",
       "    <tr style=\"text-align: right;\">\n",
       "      <th></th>\n",
       "      <th>height</th>\n",
       "      <th>weight</th>\n",
       "      <th>general_health_condition</th>\n",
       "      <th>total_cholesterol</th>\n",
       "      <th>pulse</th>\n",
       "      <th>diabetes</th>\n",
       "      <th>age</th>\n",
       "      <th>gender</th>\n",
       "    </tr>\n",
       "    <tr>\n",
       "      <th>SEQN</th>\n",
       "      <th></th>\n",
       "      <th></th>\n",
       "      <th></th>\n",
       "      <th></th>\n",
       "      <th></th>\n",
       "      <th></th>\n",
       "      <th></th>\n",
       "      <th></th>\n",
       "    </tr>\n",
       "  </thead>\n",
       "  <tbody>\n",
       "    <tr>\n",
       "      <th>93705.0</th>\n",
       "      <td>63.0</td>\n",
       "      <td>165.0</td>\n",
       "      <td>Good</td>\n",
       "      <td>157.0</td>\n",
       "      <td>52.0</td>\n",
       "      <td>0</td>\n",
       "      <td>66.0</td>\n",
       "      <td>Female</td>\n",
       "    </tr>\n",
       "    <tr>\n",
       "      <th>93706.0</th>\n",
       "      <td>68.0</td>\n",
       "      <td>145.0</td>\n",
       "      <td>Very good</td>\n",
       "      <td>148.0</td>\n",
       "      <td>82.0</td>\n",
       "      <td>0</td>\n",
       "      <td>18.0</td>\n",
       "      <td>Male</td>\n",
       "    </tr>\n",
       "    <tr>\n",
       "      <th>93707.0</th>\n",
       "      <td>NaN</td>\n",
       "      <td>NaN</td>\n",
       "      <td>Good</td>\n",
       "      <td>189.0</td>\n",
       "      <td>100.0</td>\n",
       "      <td>0</td>\n",
       "      <td>13.0</td>\n",
       "      <td>Male</td>\n",
       "    </tr>\n",
       "    <tr>\n",
       "      <th>93709.0</th>\n",
       "      <td>62.0</td>\n",
       "      <td>200.0</td>\n",
       "      <td>NaN</td>\n",
       "      <td>176.0</td>\n",
       "      <td>74.0</td>\n",
       "      <td>0</td>\n",
       "      <td>75.0</td>\n",
       "      <td>Female</td>\n",
       "    </tr>\n",
       "    <tr>\n",
       "      <th>93711.0</th>\n",
       "      <td>69.0</td>\n",
       "      <td>142.0</td>\n",
       "      <td>Very good</td>\n",
       "      <td>238.0</td>\n",
       "      <td>62.0</td>\n",
       "      <td>0</td>\n",
       "      <td>56.0</td>\n",
       "      <td>Male</td>\n",
       "    </tr>\n",
       "  </tbody>\n",
       "</table>\n",
       "</div>"
      ],
      "text/plain": [
       "         height  weight general_health_condition  total_cholesterol  pulse  \\\n",
       "SEQN                                                                         \n",
       "93705.0    63.0   165.0                     Good              157.0   52.0   \n",
       "93706.0    68.0   145.0                Very good              148.0   82.0   \n",
       "93707.0     NaN     NaN                     Good              189.0  100.0   \n",
       "93709.0    62.0   200.0                      NaN              176.0   74.0   \n",
       "93711.0    69.0   142.0                Very good              238.0   62.0   \n",
       "\n",
       "         diabetes   age  gender  \n",
       "SEQN                             \n",
       "93705.0         0  66.0  Female  \n",
       "93706.0         0  18.0    Male  \n",
       "93707.0         0  13.0    Male  \n",
       "93709.0         0  75.0  Female  \n",
       "93711.0         0  56.0    Male  "
      ]
     },
     "execution_count": 7,
     "metadata": {},
     "output_type": "execute_result"
    }
   ],
   "source": [
    "nhanes_df = load_and_clean_nhanes_data()\n",
    "nhanes_df.head()"
   ]
  },
  {
   "cell_type": "markdown",
   "metadata": {},
   "source": [
    "### Consideration and Evaluation of Different Types of Missing Values"
   ]
  },
  {
   "cell_type": "markdown",
   "metadata": {},
   "source": [
    "If the missing values are MCAR (Missing Completely at Random), you can apply deletion or imputation without introducing bias.\n",
    "\n",
    "If they are MAR (Missing at Random), deletion may introduce bias, so imputation—either single or multiple—is recommended.\n",
    "\n",
    "If they are MNAR (Missing Not at Random), imputation may not be sufficient, and it is necessary to model the missingness mechanism or collect more data."
   ]
  },
  {
   "cell_type": "markdown",
   "metadata": {},
   "source": [
    "# Evaluation of the Missing Values Mechanism Using t-Test"
   ]
  },
  {
   "cell_type": "markdown",
   "metadata": {},
   "source": [
    "<div class=\"alert alert-info\">\n",
    "    <b style=\"font-size: 1.5em;\">📘 Information</b>\n",
    "    <p>\n",
    "<code>two-sided</code>: The <b>means</b> of the distributions underlying the samples are <b>unequal</b>.<br>\n",
    "<code>less</code>: The <b>mean</b> of the distribution underlying the <b>first</b> sample is <b>less</b> than the mean of the distribution underlying the <b>second</b> sample.<br>\n",
    "<code>greater</code>: The <b>mean</b> of the distribution underlying the <b>first</b> sample is <b>greater</b> than the mean of the distribution underlying the <b>second</b> sample.<br>\n",
    "    </p>\n",
    "</div>"
   ]
  },
  {
   "cell_type": "code",
   "execution_count": 8,
   "metadata": {},
   "outputs": [
    {
     "name": "stderr",
     "output_type": "stream",
     "text": [
      "/home/alex/anaconda3/envs/handling_missing_data/lib/python3.10/site-packages/pandas_flavor/register.py:157: FutureWarning: This function will be deprecated in a 1.x release. Please use `jn.select` instead.\n",
      "  return method(self._obj, *args, **kwargs)\n"
     ]
    }
   ],
   "source": [
    "female_weight, male_weight = nhanes_df.select_columns(\n",
    "    \"gender\", \"weight\"\n",
    ").transform_column(\n",
    "    \"weight\",\n",
    "    lambda x: x.isna(),\n",
    "    elementwise=False\n",
    ").groupby(\n",
    "    \"gender\"\n",
    ").weight.pipe(\n",
    "    lambda df: (\n",
    "        df.get_group(\"Female\"),\n",
    "        df.get_group(\"Male\")\n",
    "    )\n",
    ")"
   ]
  },
  {
   "cell_type": "code",
   "execution_count": 9,
   "metadata": {},
   "outputs": [
    {
     "data": {
      "text/plain": [
       "Ttest_indResult(statistic=-0.3621032192538131, pvalue=0.7172855918077239)"
      ]
     },
     "execution_count": 9,
     "metadata": {},
     "output_type": "execute_result"
    }
   ],
   "source": [
    "scipy.stats.ttest_ind(\n",
    "    a = female_weight,\n",
    "    b = male_weight,\n",
    "    alternative=\"two-sided\"\n",
    ")"
   ]
  },
  {
   "cell_type": "markdown",
   "metadata": {},
   "source": [
    "t-statistic = -0.362: The difference in the proportion of missing values between both groups is small and negative, suggesting that women may have a slightly higher rate of missing values, but not significantly.\n",
    "\n",
    "p-value = 0.717: This value is high (> 0.05), indicating that there is not enough statistical evidence to claim that the proportions of missing values differ between the two groups.\n",
    "\n",
    "We cannot reject the null hypothesis, suggesting that the missing values in \"weight\" do not depend on gender. This is an indication that the missing values could be MCAR (Missing Completely at Random)."
   ]
  },
  {
   "cell_type": "markdown",
   "metadata": {},
   "source": [
    "#### Learning about mosaic graph"
   ]
  },
  {
   "cell_type": "code",
   "execution_count": 10,
   "metadata": {},
   "outputs": [
    {
     "name": "stderr",
     "output_type": "stream",
     "text": [
      "/home/alex/anaconda3/envs/handling_missing_data/lib/python3.10/site-packages/pandas_flavor/register.py:157: FutureWarning: This function will be deprecated in a 1.x release. Please use `jn.select` instead.\n",
      "  return method(self._obj, *args, **kwargs)\n"
     ]
    },
    {
     "data": {
      "image/png": "[encoded data removed]",
      "text/plain": [
       "<Figure size 1000x1000 with 3 Axes>"
      ]
     },
     "metadata": {},
     "output_type": "display_data"
    }
   ],
   "source": [
    "fig, ax = plt.subplots(figsize=(10, 10))\n",
    "\n",
    "(\n",
    "    nhanes_df.select_columns(\"weight\", \"general_health_condition\", \"gender\")\n",
    "    .assign(weight=lambda df: df.weight.isna().replace([True, False], [\"NA\", \"!NA\"]))\n",
    "    .groupby(\n",
    "        [\"gender\", \"general_health_condition\", \"weight\"], dropna=False, as_index=True\n",
    "    )\n",
    "    .size()\n",
    "    .pipe(\n",
    "        lambda df: mosaic(\n",
    "            data=df,\n",
    "            properties=lambda key: {\"color\": \"r\" if \"NA\" in key else \"blue\"},\n",
    "            ax=ax,\n",
    "            horizontal=True,\n",
    "            axes_label=True,\n",
    "            title=\"\",\n",
    "            labelizer=lambda key: \"\",\n",
    "        )\n",
    "    )\n",
    ")\n",
    "\n",
    "ax.grid(False)"
   ]
  },
  {
   "cell_type": "markdown",
   "metadata": {},
   "source": [
    "#### Challenge: add this function to pandas missing extension"
   ]
  },
  {
   "cell_type": "code",
   "execution_count": 12,
   "metadata": {},
   "outputs": [
    {
     "name": "stderr",
     "output_type": "stream",
     "text": [
      "/home/alex/anaconda3/envs/handling_missing_data/lib/python3.10/site-packages/pandas_flavor/register.py:157: FutureWarning: This function will be deprecated in a 1.x release. Please use `jn.select` instead.\n",
      "  return method(self._obj, *args, **kwargs)\n"
     ]
    },
    {
     "data": {
      "image/png": "[encoded data removed]",
      "text/plain": [
       "<Figure size 1000x1000 with 3 Axes>"
      ]
     },
     "metadata": {},
     "output_type": "display_data"
    }
   ],
   "source": [
    "nhanes_df.missing.missing_mosaic_plot(\"weight\", \"general_health_condition\", \"gender\")"
   ]
  }
 ],
 "metadata": {
  "kernelspec": {
   "display_name": "handling_missing_data",
   "language": "python",
   "name": "python3"
  },
  "language_info": {
   "codemirror_mode": {
    "name": "ipython",
    "version": 3
   },
   "file_extension": ".py",
   "mimetype": "text/x-python",
   "name": "python",
   "nbconvert_exporter": "python",
   "pygments_lexer": "ipython3",
   "version": "3.10.16"
  }
 },
 "nbformat": 4,
 "nbformat_minor": 2
}
