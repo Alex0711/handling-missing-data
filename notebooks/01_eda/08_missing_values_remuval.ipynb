{
 "cells": [
  {
   "cell_type": "markdown",
   "metadata": {},
   "source": [
    "<div class=\"alert alert-warning\" role=\"alert\">\n",
    "    <b style=\"font-size: 1.5em;\">🚧 Warning</b>\n",
    "    <p>\n",
    "    The removal of missing values <b>assumes</b> that the missing values are \n",
    "    completely missing at random (<code>MCAR</code>). In any other case, \n",
    "    removing missing values may introduce <b>bias</b> in subsequent analyses and models.\n",
    "    </p>\n",
    "</div>"
   ]
  },
  {
   "cell_type": "code",
   "execution_count": 2,
   "metadata": {},
   "outputs": [],
   "source": [
    "import sys\n",
    "import pyprojroot\n",
    "import pyreadr\n",
    "import missingno\n",
    "import importlib\n",
    "sys.path.append(str(pyprojroot.here()))\n",
    "import src.pandas_missing_extension\n",
    "importlib.reload(src.pandas_missing_extension)\n",
    "from src.utils import make_dir_function\n",
    "from src.pandas_missing_extension import MissingMethods"
   ]
  },
  {
   "cell_type": "code",
   "execution_count": 3,
   "metadata": {},
   "outputs": [],
   "source": [
    "data_dir = make_dir_function(\"data\")\n",
    "riskfactor_file = data_dir(\"raw\", \"riskfactors.rda\")"
   ]
  },
  {
   "cell_type": "code",
   "execution_count": 4,
   "metadata": {},
   "outputs": [],
   "source": [
    "riskfactors_df = pyreadr.read_r(riskfactor_file)['riskfactors']"
   ]
  },
  {
   "cell_type": "markdown",
   "metadata": {},
   "source": [
    "First, observe the total number of observations and variables in your dataset."
   ]
  },
  {
   "cell_type": "code",
   "execution_count": 7,
   "metadata": {},
   "outputs": [
    {
     "data": {
      "text/plain": [
       "(245, 34)"
      ]
     },
     "execution_count": 7,
     "metadata": {},
     "output_type": "execute_result"
    }
   ],
   "source": [
    "riskfactors_df.shape"
   ]
  },
  {
   "cell_type": "markdown",
   "metadata": {},
   "source": [
    "# Pairwise deletion"
   ]
  },
  {
   "cell_type": "markdown",
   "metadata": {},
   "source": [
    "It consists of ignoring missing data only in the calculations where they are missing, without deleting entire rows."
   ]
  },
  {
   "cell_type": "code",
   "execution_count": 8,
   "metadata": {},
   "outputs": [
    {
     "data": {
      "text/plain": [
       "174.26808510638298"
      ]
     },
     "execution_count": 8,
     "metadata": {},
     "output_type": "execute_result"
    }
   ],
   "source": [
    "riskfactors_df.weight_lbs.mean()"
   ]
  },
  {
   "cell_type": "code",
   "execution_count": 11,
   "metadata": {},
   "outputs": [
    {
     "name": "stdout",
     "output_type": "stream",
     "text": [
      "245\n",
      "235\n"
     ]
    }
   ],
   "source": [
    "print(riskfactors_df.weight_lbs.size)\n",
    "print(riskfactors_df.weight_lbs.count())"
   ]
  },
  {
   "cell_type": "code",
   "execution_count": 12,
   "metadata": {},
   "outputs": [
    {
     "name": "stderr",
     "output_type": "stream",
     "text": [
      "/tmp/ipykernel_17987/2266639386.py:1: FutureWarning: The default value of numeric_only in DataFrame.mean is deprecated. In a future version, it will default to False. In addition, specifying 'numeric_only=None' is deprecated. Select only valid columns or specify the value of numeric_only to silence this warning.\n",
      "  riskfactors_df.mean(skipna=False)\n"
     ]
    },
    {
     "data": {
      "text/plain": [
       "age                58.106122\n",
       "weight_lbs               NaN\n",
       "height_inch              NaN\n",
       "bmi                      NaN\n",
       "children            0.424490\n",
       "health_physical     4.118367\n",
       "health_mental       3.142857\n",
       "health_poor              NaN\n",
       "drink_days               NaN\n",
       "drink_average            NaN\n",
       "diet_fruit               NaN\n",
       "diet_salad               NaN\n",
       "diet_potato              NaN\n",
       "diet_carrot              NaN\n",
       "diet_vegetable           NaN\n",
       "diet_juice               NaN\n",
       "dtype: float64"
      ]
     },
     "execution_count": 12,
     "metadata": {},
     "output_type": "execute_result"
    }
   ],
   "source": [
    "riskfactors_df.mean(skipna=False)"
   ]
  },
  {
   "cell_type": "markdown",
   "metadata": {},
   "source": [
    "# Listwise Deletion or Complete Case"
   ]
  },
  {
   "cell_type": "markdown",
   "metadata": {},
   "source": [
    "It consists of completely removing any row (or case) that has at least one missing value in any of the variables."
   ]
  },
  {
   "cell_type": "code",
   "execution_count": 16,
   "metadata": {},
   "outputs": [
    {
     "data": {
      "text/plain": [
       "(234, 34)"
      ]
     },
     "execution_count": 16,
     "metadata": {},
     "output_type": "execute_result"
    }
   ],
   "source": [
    "riskfactors_df.dropna(\n",
    "    subset=['weight_lbs', 'height_inch'], # drop rows where weight_lbs is missing\n",
    "    how='any', # drop rows where any of the subset columns are missing\n",
    ").shape"
   ]
  },
  {
   "cell_type": "code",
   "execution_count": 17,
   "metadata": {},
   "outputs": [
    {
     "data": {
      "text/plain": [
       "(244, 34)"
      ]
     },
     "execution_count": 17,
     "metadata": {},
     "output_type": "execute_result"
    }
   ],
   "source": [
    "riskfactors_df.dropna(\n",
    "    subset=['weight_lbs', 'height_inch'], # drop rows where weight_lbs is missing\n",
    "    how='all', # drop rows where all of the subset columns are missing\n",
    ").shape"
   ]
  }
 ],
 "metadata": {
  "kernelspec": {
   "display_name": "handling_missing_data",
   "language": "python",
   "name": "python3"
  },
  "language_info": {
   "codemirror_mode": {
    "name": "ipython",
    "version": 3
   },
   "file_extension": ".py",
   "mimetype": "text/x-python",
   "name": "python",
   "nbconvert_exporter": "python",
   "pygments_lexer": "ipython3",
   "version": "3.10.16"
  }
 },
 "nbformat": 4,
 "nbformat_minor": 2
}
